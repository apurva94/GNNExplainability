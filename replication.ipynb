
from ExplanationEvaluation.configs.selector import Selector
from ExplanationEvaluation.tasks.replication import replication


# In[2]:


_dataset = 'ba2motifs' # One of: bashapes, bacommunity, treecycles, treegrids, ba2motifs, mutag
_explainer = 'pgexplainer' # One of: pgexplainer, gnnexplainer

# Parameters below should only be changed if you want to run any of the experiments in the supplementary
_folder = 'replication' # One of: replication, extension

# PGExplainer
config_path = f"./ExplanationEvaluation/configs/{_folder}/explainers/{_explainer}/{_dataset}.json"

config = Selector(config_path)
extension = (_folder == 'extension')

#todo generate dataset and use batch size for training for mutag

# config.args.explainer.seeds = [0]


# In[ ]:


(auc, auc_std), inf_time = replication(config.args.explainer, extension)


# In[ ]:


print((auc, auc_std), inf_time)
